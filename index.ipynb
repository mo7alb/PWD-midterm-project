{
 "metadata": {
  "language_info": {
   "codemirror_mode": {
    "name": "ipython",
    "version": 3
   },
   "file_extension": ".py",
   "mimetype": "text/x-python",
   "name": "python",
   "nbconvert_exporter": "python",
   "pygments_lexer": "ipython3",
   "version": "3.8.2"
  },
  "orig_nbformat": 4,
  "kernelspec": {
   "name": "python3",
   "display_name": "Python 3.8.2 64-bit"
  },
  "interpreter": {
   "hash": "31f2aee4e71d21fbe5cf8b01ff0e069b9275f58929596ceb00d14d90e3e16cd6"
  }
 },
 "nbformat": 4,
 "nbformat_minor": 2,
 "cells": [
  {
   "source": [
    "## Introduction\n",
    "\n",
    "Its being a while since people have been talking that the IT sector has been increasing due to the advancement of technology. So today I aimed to find out how much the industry grew from 2004 to 2015. \n",
    "\n",
    "I got the dataset from kaggle. It is a rich dataset. the data contains job posts from 2004 to 2015. the data was funded by American University of Armenia’s research grant in 2015. since it is published by American University of Armenia’s research grant, most of its data are Armenian based data. \n",
    "\n",
    "[This is the link to the dataset](https://www.kaggle.com/madhab/jobposts)"
   ],
   "cell_type": "markdown",
   "metadata": {}
  },
  {
   "cell_type": "code",
   "execution_count": 176,
   "metadata": {},
   "outputs": [],
   "source": [
    "# import libraries\n",
    "import pandas as pd\n",
    "import nltk\n",
    "from nltk.probability import FreqDist\n",
    "from nltk.tokenize import TweetTokenizer\n",
    "from nltk.tokenize import RegexpTokenizer\n",
    "from nltk.corpus import stopwords\n",
    "\n",
    "tokenizer = TweetTokenizer()\n",
    "tokenizer = RegexpTokenizer(r'\\w+')\n",
    "stop_words = set(stopwords.words('english'))"
   ]
  },
  {
   "cell_type": "code",
   "execution_count": 177,
   "metadata": {},
   "outputs": [
    {
     "output_type": "execute_result",
     "data": {
      "text/plain": [
       "                                                 jobpost          date  \\\n",
       "0      AMERIA Investment Consulting Company\\r\\nJOB TI...   Jan 5, 2004   \n",
       "1      International Research & Exchanges Board (IREX...   Jan 7, 2004   \n",
       "2      Caucasus Environmental NGO Network (CENN)\\r\\nJ...   Jan 7, 2004   \n",
       "3      Manoff Group\\r\\nJOB TITLE:  BCC Specialist\\r\\n...   Jan 7, 2004   \n",
       "4      Yerevan Brandy Company\\r\\nJOB TITLE:  Software...  Jan 10, 2004   \n",
       "...                                                  ...           ...   \n",
       "18996  Technolinguistics NGO\\r\\n\\r\\n\\r\\nTITLE:  Senio...  Dec 28, 2015   \n",
       "18997  \"Coca-Cola Hellenic Bottling Company Armenia\" ...  Dec 30, 2015   \n",
       "18998  \"Coca-Cola Hellenic Bottling Company Armenia\" ...  Dec 30, 2015   \n",
       "18999  San Lazzaro   LLC\\r\\n\\r\\n\\r\\nTITLE:  Head of O...  Dec 30, 2015   \n",
       "19000  \"Kamurj\" UCO CJSC\\r\\n\\r\\n\\r\\nTITLE:  Lawyer in...  Dec 30, 2015   \n",
       "\n",
       "                                                   Title  \\\n",
       "0                                Chief Financial Officer   \n",
       "1      Full-time Community Connections Intern (paid i...   \n",
       "2                                    Country Coordinator   \n",
       "3                                         BCC Specialist   \n",
       "4                                     Software Developer   \n",
       "...                                                  ...   \n",
       "18996                    Senior Creative UX/ UI Designer   \n",
       "18997                       Category Development Manager   \n",
       "18998                      Operational Marketing Manager   \n",
       "18999                    Head of Online Sales Department   \n",
       "19000                         Lawyer in Legal Department   \n",
       "\n",
       "                                                 Company AnnouncementCode  \\\n",
       "0                   AMERIA Investment Consulting Company              NaN   \n",
       "1        International Research & Exchanges Board (IREX)              NaN   \n",
       "2              Caucasus Environmental NGO Network (CENN)              NaN   \n",
       "3                                           Manoff Group              NaN   \n",
       "4                                 Yerevan Brandy Company              NaN   \n",
       "...                                                  ...              ...   \n",
       "18996                              Technolinguistics NGO              NaN   \n",
       "18997  \"Coca-Cola Hellenic Bottling Company Armenia\" ...              NaN   \n",
       "18998  \"Coca-Cola Hellenic Bottling Company Armenia\" ...              NaN   \n",
       "18999                                  San Lazzaro   LLC              NaN   \n",
       "19000                                  \"Kamurj\" UCO CJSC              NaN   \n",
       "\n",
       "            Term                    Eligibility Audience StartDate  \\\n",
       "0            NaN                            NaN      NaN       NaN   \n",
       "1            NaN                            NaN      NaN       NaN   \n",
       "2            NaN                            NaN      NaN       NaN   \n",
       "3            NaN                            NaN      NaN       NaN   \n",
       "4            NaN                            NaN      NaN       NaN   \n",
       "...          ...                            ...      ...       ...   \n",
       "18996  Full-time                            NaN      NaN       NaN   \n",
       "18997  Full-time  All interested professionals.      NaN      ASAP   \n",
       "18998  Full-time  All interested professionals.      NaN      ASAP   \n",
       "18999        NaN                            NaN      NaN       NaN   \n",
       "19000  Full-time                            NaN      NaN       NaN   \n",
       "\n",
       "                                             Duration  ...  \\\n",
       "0                                                 NaN  ...   \n",
       "1                                            3 months  ...   \n",
       "2               Renewable annual contract\\r\\nPOSITION  ...   \n",
       "3                                                 NaN  ...   \n",
       "4                                                 NaN  ...   \n",
       "...                                               ...  ...   \n",
       "18996                                       Long-term  ...   \n",
       "18997  Long-term with a probation period of 3 months.  ...   \n",
       "18998  Long-term with a probation period of 3 months.  ...   \n",
       "18999                                       Long-term  ...   \n",
       "19000                                      Indefinite  ...   \n",
       "\n",
       "                   Salary                                       ApplicationP  \\\n",
       "0                     NaN  To apply for this position, please submit a\\r\\...   \n",
       "1                     NaN  Please submit a cover letter and resume to:\\r\\...   \n",
       "2                     NaN  Please send resume or CV toursula.kazarian@......   \n",
       "3                     NaN  Please send cover letter and resume to Amy\\r\\n...   \n",
       "4                     NaN  Successful candidates should submit\\r\\n- CV; \\...   \n",
       "...                   ...                                                ...   \n",
       "18996         Competitive  To apply for this position, please send your\\r...   \n",
       "18997                 NaN  All interested candidates are kindly requested...   \n",
       "18998                 NaN  All interested candidates are kindly requested...   \n",
       "18999  Highly competitive  Interested candidates can send their CVs to:\\r...   \n",
       "19000                 NaN  All qualified applicants are encouraged to\\r\\n...   \n",
       "\n",
       "            OpeningDate                                       Deadline Notes  \\\n",
       "0                   NaN                                26 January 2004   NaN   \n",
       "1                   NaN                                12 January 2004   NaN   \n",
       "2                   NaN  20 January 2004\\r\\nSTART DATE:  February 2004   NaN   \n",
       "3                   NaN      23 January 2004\\r\\nSTART DATE:  Immediate   NaN   \n",
       "4                   NaN                         20 January 2004, 18:00   NaN   \n",
       "...                 ...                                            ...   ...   \n",
       "18996  29 December 2015                                28 January 2016   NaN   \n",
       "18997  30 December 2015                                20 January 2016   NaN   \n",
       "18998  30 December 2015                                20 January 2016   NaN   \n",
       "18999  30 December 2015                                29 January 2016   NaN   \n",
       "19000  30 December 2015                                20 January 2016   NaN   \n",
       "\n",
       "                                                  AboutC Attach  Year Month  \\\n",
       "0                                                    NaN    NaN  2004     1   \n",
       "1      The International Research & Exchanges Board (...    NaN  2004     1   \n",
       "2      The Caucasus Environmental NGO Network is a\\r\\...    NaN  2004     1   \n",
       "3                                                    NaN    NaN  2004     1   \n",
       "4                                                    NaN    NaN  2004     1   \n",
       "...                                                  ...    ...   ...   ...   \n",
       "18996  As a company Technolinguistics has a mandate t...    NaN  2015    12   \n",
       "18997                                                NaN    NaN  2015    12   \n",
       "18998                                                NaN    NaN  2015    12   \n",
       "18999  San Lazzaro LLC works with several internation...    NaN  2015    12   \n",
       "19000  \"Kamurj\" UCO CJSC is providing micro and small...    NaN  2015    12   \n",
       "\n",
       "          IT  \n",
       "0      False  \n",
       "1      False  \n",
       "2      False  \n",
       "3      False  \n",
       "4       True  \n",
       "...      ...  \n",
       "18996  False  \n",
       "18997  False  \n",
       "18998  False  \n",
       "18999  False  \n",
       "19000  False  \n",
       "\n",
       "[19001 rows x 24 columns]"
      ],
      "text/html": "<div>\n<style scoped>\n    .dataframe tbody tr th:only-of-type {\n        vertical-align: middle;\n    }\n\n    .dataframe tbody tr th {\n        vertical-align: top;\n    }\n\n    .dataframe thead th {\n        text-align: right;\n    }\n</style>\n<table border=\"1\" class=\"dataframe\">\n  <thead>\n    <tr style=\"text-align: right;\">\n      <th></th>\n      <th>jobpost</th>\n      <th>date</th>\n      <th>Title</th>\n      <th>Company</th>\n      <th>AnnouncementCode</th>\n      <th>Term</th>\n      <th>Eligibility</th>\n      <th>Audience</th>\n      <th>StartDate</th>\n      <th>Duration</th>\n      <th>...</th>\n      <th>Salary</th>\n      <th>ApplicationP</th>\n      <th>OpeningDate</th>\n      <th>Deadline</th>\n      <th>Notes</th>\n      <th>AboutC</th>\n      <th>Attach</th>\n      <th>Year</th>\n      <th>Month</th>\n      <th>IT</th>\n    </tr>\n  </thead>\n  <tbody>\n    <tr>\n      <th>0</th>\n      <td>AMERIA Investment Consulting Company\\r\\nJOB TI...</td>\n      <td>Jan 5, 2004</td>\n      <td>Chief Financial Officer</td>\n      <td>AMERIA Investment Consulting Company</td>\n      <td>NaN</td>\n      <td>NaN</td>\n      <td>NaN</td>\n      <td>NaN</td>\n      <td>NaN</td>\n      <td>NaN</td>\n      <td>...</td>\n      <td>NaN</td>\n      <td>To apply for this position, please submit a\\r\\...</td>\n      <td>NaN</td>\n      <td>26 January 2004</td>\n      <td>NaN</td>\n      <td>NaN</td>\n      <td>NaN</td>\n      <td>2004</td>\n      <td>1</td>\n      <td>False</td>\n    </tr>\n    <tr>\n      <th>1</th>\n      <td>International Research &amp; Exchanges Board (IREX...</td>\n      <td>Jan 7, 2004</td>\n      <td>Full-time Community Connections Intern (paid i...</td>\n      <td>International Research &amp; Exchanges Board (IREX)</td>\n      <td>NaN</td>\n      <td>NaN</td>\n      <td>NaN</td>\n      <td>NaN</td>\n      <td>NaN</td>\n      <td>3 months</td>\n      <td>...</td>\n      <td>NaN</td>\n      <td>Please submit a cover letter and resume to:\\r\\...</td>\n      <td>NaN</td>\n      <td>12 January 2004</td>\n      <td>NaN</td>\n      <td>The International Research &amp; Exchanges Board (...</td>\n      <td>NaN</td>\n      <td>2004</td>\n      <td>1</td>\n      <td>False</td>\n    </tr>\n    <tr>\n      <th>2</th>\n      <td>Caucasus Environmental NGO Network (CENN)\\r\\nJ...</td>\n      <td>Jan 7, 2004</td>\n      <td>Country Coordinator</td>\n      <td>Caucasus Environmental NGO Network (CENN)</td>\n      <td>NaN</td>\n      <td>NaN</td>\n      <td>NaN</td>\n      <td>NaN</td>\n      <td>NaN</td>\n      <td>Renewable annual contract\\r\\nPOSITION</td>\n      <td>...</td>\n      <td>NaN</td>\n      <td>Please send resume or CV toursula.kazarian@......</td>\n      <td>NaN</td>\n      <td>20 January 2004\\r\\nSTART DATE:  February 2004</td>\n      <td>NaN</td>\n      <td>The Caucasus Environmental NGO Network is a\\r\\...</td>\n      <td>NaN</td>\n      <td>2004</td>\n      <td>1</td>\n      <td>False</td>\n    </tr>\n    <tr>\n      <th>3</th>\n      <td>Manoff Group\\r\\nJOB TITLE:  BCC Specialist\\r\\n...</td>\n      <td>Jan 7, 2004</td>\n      <td>BCC Specialist</td>\n      <td>Manoff Group</td>\n      <td>NaN</td>\n      <td>NaN</td>\n      <td>NaN</td>\n      <td>NaN</td>\n      <td>NaN</td>\n      <td>NaN</td>\n      <td>...</td>\n      <td>NaN</td>\n      <td>Please send cover letter and resume to Amy\\r\\n...</td>\n      <td>NaN</td>\n      <td>23 January 2004\\r\\nSTART DATE:  Immediate</td>\n      <td>NaN</td>\n      <td>NaN</td>\n      <td>NaN</td>\n      <td>2004</td>\n      <td>1</td>\n      <td>False</td>\n    </tr>\n    <tr>\n      <th>4</th>\n      <td>Yerevan Brandy Company\\r\\nJOB TITLE:  Software...</td>\n      <td>Jan 10, 2004</td>\n      <td>Software Developer</td>\n      <td>Yerevan Brandy Company</td>\n      <td>NaN</td>\n      <td>NaN</td>\n      <td>NaN</td>\n      <td>NaN</td>\n      <td>NaN</td>\n      <td>NaN</td>\n      <td>...</td>\n      <td>NaN</td>\n      <td>Successful candidates should submit\\r\\n- CV; \\...</td>\n      <td>NaN</td>\n      <td>20 January 2004, 18:00</td>\n      <td>NaN</td>\n      <td>NaN</td>\n      <td>NaN</td>\n      <td>2004</td>\n      <td>1</td>\n      <td>True</td>\n    </tr>\n    <tr>\n      <th>...</th>\n      <td>...</td>\n      <td>...</td>\n      <td>...</td>\n      <td>...</td>\n      <td>...</td>\n      <td>...</td>\n      <td>...</td>\n      <td>...</td>\n      <td>...</td>\n      <td>...</td>\n      <td>...</td>\n      <td>...</td>\n      <td>...</td>\n      <td>...</td>\n      <td>...</td>\n      <td>...</td>\n      <td>...</td>\n      <td>...</td>\n      <td>...</td>\n      <td>...</td>\n      <td>...</td>\n    </tr>\n    <tr>\n      <th>18996</th>\n      <td>Technolinguistics NGO\\r\\n\\r\\n\\r\\nTITLE:  Senio...</td>\n      <td>Dec 28, 2015</td>\n      <td>Senior Creative UX/ UI Designer</td>\n      <td>Technolinguistics NGO</td>\n      <td>NaN</td>\n      <td>Full-time</td>\n      <td>NaN</td>\n      <td>NaN</td>\n      <td>NaN</td>\n      <td>Long-term</td>\n      <td>...</td>\n      <td>Competitive</td>\n      <td>To apply for this position, please send your\\r...</td>\n      <td>29 December 2015</td>\n      <td>28 January 2016</td>\n      <td>NaN</td>\n      <td>As a company Technolinguistics has a mandate t...</td>\n      <td>NaN</td>\n      <td>2015</td>\n      <td>12</td>\n      <td>False</td>\n    </tr>\n    <tr>\n      <th>18997</th>\n      <td>\"Coca-Cola Hellenic Bottling Company Armenia\" ...</td>\n      <td>Dec 30, 2015</td>\n      <td>Category Development Manager</td>\n      <td>\"Coca-Cola Hellenic Bottling Company Armenia\" ...</td>\n      <td>NaN</td>\n      <td>Full-time</td>\n      <td>All interested professionals.</td>\n      <td>NaN</td>\n      <td>ASAP</td>\n      <td>Long-term with a probation period of 3 months.</td>\n      <td>...</td>\n      <td>NaN</td>\n      <td>All interested candidates are kindly requested...</td>\n      <td>30 December 2015</td>\n      <td>20 January 2016</td>\n      <td>NaN</td>\n      <td>NaN</td>\n      <td>NaN</td>\n      <td>2015</td>\n      <td>12</td>\n      <td>False</td>\n    </tr>\n    <tr>\n      <th>18998</th>\n      <td>\"Coca-Cola Hellenic Bottling Company Armenia\" ...</td>\n      <td>Dec 30, 2015</td>\n      <td>Operational Marketing Manager</td>\n      <td>\"Coca-Cola Hellenic Bottling Company Armenia\" ...</td>\n      <td>NaN</td>\n      <td>Full-time</td>\n      <td>All interested professionals.</td>\n      <td>NaN</td>\n      <td>ASAP</td>\n      <td>Long-term with a probation period of 3 months.</td>\n      <td>...</td>\n      <td>NaN</td>\n      <td>All interested candidates are kindly requested...</td>\n      <td>30 December 2015</td>\n      <td>20 January 2016</td>\n      <td>NaN</td>\n      <td>NaN</td>\n      <td>NaN</td>\n      <td>2015</td>\n      <td>12</td>\n      <td>False</td>\n    </tr>\n    <tr>\n      <th>18999</th>\n      <td>San Lazzaro   LLC\\r\\n\\r\\n\\r\\nTITLE:  Head of O...</td>\n      <td>Dec 30, 2015</td>\n      <td>Head of Online Sales Department</td>\n      <td>San Lazzaro   LLC</td>\n      <td>NaN</td>\n      <td>NaN</td>\n      <td>NaN</td>\n      <td>NaN</td>\n      <td>NaN</td>\n      <td>Long-term</td>\n      <td>...</td>\n      <td>Highly competitive</td>\n      <td>Interested candidates can send their CVs to:\\r...</td>\n      <td>30 December 2015</td>\n      <td>29 January 2016</td>\n      <td>NaN</td>\n      <td>San Lazzaro LLC works with several internation...</td>\n      <td>NaN</td>\n      <td>2015</td>\n      <td>12</td>\n      <td>False</td>\n    </tr>\n    <tr>\n      <th>19000</th>\n      <td>\"Kamurj\" UCO CJSC\\r\\n\\r\\n\\r\\nTITLE:  Lawyer in...</td>\n      <td>Dec 30, 2015</td>\n      <td>Lawyer in Legal Department</td>\n      <td>\"Kamurj\" UCO CJSC</td>\n      <td>NaN</td>\n      <td>Full-time</td>\n      <td>NaN</td>\n      <td>NaN</td>\n      <td>NaN</td>\n      <td>Indefinite</td>\n      <td>...</td>\n      <td>NaN</td>\n      <td>All qualified applicants are encouraged to\\r\\n...</td>\n      <td>30 December 2015</td>\n      <td>20 January 2016</td>\n      <td>NaN</td>\n      <td>\"Kamurj\" UCO CJSC is providing micro and small...</td>\n      <td>NaN</td>\n      <td>2015</td>\n      <td>12</td>\n      <td>False</td>\n    </tr>\n  </tbody>\n</table>\n<p>19001 rows × 24 columns</p>\n</div>"
     },
     "metadata": {},
     "execution_count": 177
    }
   ],
   "source": [
    "# Importing data\n",
    "data = pd.read_csv(\"./job_posts_data.csv\")\n",
    "# print the imported data\n",
    "data\n"
   ]
  },
  {
   "source": [
    "### columns to drop\n",
    "---\n",
    "- jobpost \n",
    "- AnnouncementCode\n",
    "- StartDate\n",
    "- Duration\n",
    "- JobDescription\n",
    "- JobRequirnments\n",
    "- ApplicationP\n",
    "- Notes\n",
    "- AboutC\n",
    "- Attach\n",
    "- OpeningDate\n",
    "- Deadline\n",
    "- Salary\n",
    "- Eligibility\n",
    "---\n",
    "\n",
    "Here, we are dropping these eleven columns to clean up our data and to make working with it easier. the data columns that are dropped here would not make any impact on our aim.\n",
    "\n",
    "jobpost is basically the original job post meaning that information that is displayed in the posting website. It includes information like company name, job description, job requirnments, job responsibilities and so on we obviously do not require this column as we have other columns that we are going to use to achieve our aim\n",
    "\n",
    "AnnouncementCode is a code of some sort of code that is used by the people who shared the data. The values of this columns are mostly empty or nan. it basically doesn't provide any usefull information.\n",
    "\n",
    "StartDate is the date on which an individual would start working. Most of the values for this column are empty but there are either dates or Immediately or as soon as possible. \n",
    "\n",
    "Duration is the duration of the employment. \n",
    "\n",
    "JobDescription is the description of the job. \n",
    "\n",
    "JobRequirment are the job requirnments. \n",
    "\n",
    "ApplicationP is the prodcedure of applying for this job.\n",
    "\n",
    "Salary is the salary offered.\n",
    "\n",
    "Notes are the additional notes that the company wants the applicant to know.\n",
    "\n",
    "AboutC is more about the company.\n",
    "\n",
    "Attach are the attachments that are expected by the company from the applicant.\n",
    "\n",
    "OpeningDate is the date on which the job post was opened.\n",
    "\n",
    "Deadline is the date on which the job post would close.\n",
    "\n",
    "Eligibility is the eligibility of the candidates"
   ],
   "cell_type": "markdown",
   "metadata": {}
  },
  {
   "cell_type": "code",
   "execution_count": 178,
   "metadata": {},
   "outputs": [
    {
     "output_type": "execute_result",
     "data": {
      "text/plain": [
       "               date                                              Title  \\\n",
       "0       Jan 5, 2004                            Chief Financial Officer   \n",
       "1       Jan 7, 2004  Full-time Community Connections Intern (paid i...   \n",
       "2       Jan 7, 2004                                Country Coordinator   \n",
       "3       Jan 7, 2004                                     BCC Specialist   \n",
       "4      Jan 10, 2004                                 Software Developer   \n",
       "...             ...                                                ...   \n",
       "18996  Dec 28, 2015                    Senior Creative UX/ UI Designer   \n",
       "18997  Dec 30, 2015                       Category Development Manager   \n",
       "18998  Dec 30, 2015                      Operational Marketing Manager   \n",
       "18999  Dec 30, 2015                    Head of Online Sales Department   \n",
       "19000  Dec 30, 2015                         Lawyer in Legal Department   \n",
       "\n",
       "                                                 Company       Term Audience  \\\n",
       "0                   AMERIA Investment Consulting Company        NaN      NaN   \n",
       "1        International Research & Exchanges Board (IREX)        NaN      NaN   \n",
       "2              Caucasus Environmental NGO Network (CENN)        NaN      NaN   \n",
       "3                                           Manoff Group        NaN      NaN   \n",
       "4                                 Yerevan Brandy Company        NaN      NaN   \n",
       "...                                                  ...        ...      ...   \n",
       "18996                              Technolinguistics NGO  Full-time      NaN   \n",
       "18997  \"Coca-Cola Hellenic Bottling Company Armenia\" ...  Full-time      NaN   \n",
       "18998  \"Coca-Cola Hellenic Bottling Company Armenia\" ...  Full-time      NaN   \n",
       "18999                                  San Lazzaro   LLC        NaN      NaN   \n",
       "19000                                  \"Kamurj\" UCO CJSC  Full-time      NaN   \n",
       "\n",
       "                                                Location  \\\n",
       "0                                       Yerevan, Armenia   \n",
       "1      IREX Armenia Main Office; Yerevan, Armenia \\r\\...   \n",
       "2                                       Yerevan, Armenia   \n",
       "3                                    Manila, Philippines   \n",
       "4                                       Yerevan, Armenia   \n",
       "...                                                  ...   \n",
       "18996                                   Yerevan, Armenia   \n",
       "18997                                   Yerevan, Armenia   \n",
       "18998                                   Yerevan, Armenia   \n",
       "18999                                   Yerevan, Armenia   \n",
       "19000                                   Yerevan, Armenia   \n",
       "\n",
       "                                            RequiredQual  Year  Month     IT  \n",
       "0      To perform this job successfully, an\\r\\nindivi...  2004      1  False  \n",
       "1      - Bachelor's Degree; Master's is preferred;\\r\\...  2004      1  False  \n",
       "2      - Degree in environmentally related field, or ...  2004      1  False  \n",
       "3      - Advanced degree in public health, social sci...  2004      1  False  \n",
       "4      - University degree; economical background is ...  2004      1   True  \n",
       "...                                                  ...   ...    ...    ...  \n",
       "18996  - At least 5 years of experience in Interface/...  2015     12  False  \n",
       "18997  - University degree, ideally business related;...  2015     12  False  \n",
       "18998  - Degree in Business, Marketing or a related f...  2015     12  False  \n",
       "18999  - At least 1 year of experience in online sale...  2015     12  False  \n",
       "19000  - Higher legal education; Master's degree is a...  2015     12  False  \n",
       "\n",
       "[19001 rows x 10 columns]"
      ],
      "text/html": "<div>\n<style scoped>\n    .dataframe tbody tr th:only-of-type {\n        vertical-align: middle;\n    }\n\n    .dataframe tbody tr th {\n        vertical-align: top;\n    }\n\n    .dataframe thead th {\n        text-align: right;\n    }\n</style>\n<table border=\"1\" class=\"dataframe\">\n  <thead>\n    <tr style=\"text-align: right;\">\n      <th></th>\n      <th>date</th>\n      <th>Title</th>\n      <th>Company</th>\n      <th>Term</th>\n      <th>Audience</th>\n      <th>Location</th>\n      <th>RequiredQual</th>\n      <th>Year</th>\n      <th>Month</th>\n      <th>IT</th>\n    </tr>\n  </thead>\n  <tbody>\n    <tr>\n      <th>0</th>\n      <td>Jan 5, 2004</td>\n      <td>Chief Financial Officer</td>\n      <td>AMERIA Investment Consulting Company</td>\n      <td>NaN</td>\n      <td>NaN</td>\n      <td>Yerevan, Armenia</td>\n      <td>To perform this job successfully, an\\r\\nindivi...</td>\n      <td>2004</td>\n      <td>1</td>\n      <td>False</td>\n    </tr>\n    <tr>\n      <th>1</th>\n      <td>Jan 7, 2004</td>\n      <td>Full-time Community Connections Intern (paid i...</td>\n      <td>International Research &amp; Exchanges Board (IREX)</td>\n      <td>NaN</td>\n      <td>NaN</td>\n      <td>IREX Armenia Main Office; Yerevan, Armenia \\r\\...</td>\n      <td>- Bachelor's Degree; Master's is preferred;\\r\\...</td>\n      <td>2004</td>\n      <td>1</td>\n      <td>False</td>\n    </tr>\n    <tr>\n      <th>2</th>\n      <td>Jan 7, 2004</td>\n      <td>Country Coordinator</td>\n      <td>Caucasus Environmental NGO Network (CENN)</td>\n      <td>NaN</td>\n      <td>NaN</td>\n      <td>Yerevan, Armenia</td>\n      <td>- Degree in environmentally related field, or ...</td>\n      <td>2004</td>\n      <td>1</td>\n      <td>False</td>\n    </tr>\n    <tr>\n      <th>3</th>\n      <td>Jan 7, 2004</td>\n      <td>BCC Specialist</td>\n      <td>Manoff Group</td>\n      <td>NaN</td>\n      <td>NaN</td>\n      <td>Manila, Philippines</td>\n      <td>- Advanced degree in public health, social sci...</td>\n      <td>2004</td>\n      <td>1</td>\n      <td>False</td>\n    </tr>\n    <tr>\n      <th>4</th>\n      <td>Jan 10, 2004</td>\n      <td>Software Developer</td>\n      <td>Yerevan Brandy Company</td>\n      <td>NaN</td>\n      <td>NaN</td>\n      <td>Yerevan, Armenia</td>\n      <td>- University degree; economical background is ...</td>\n      <td>2004</td>\n      <td>1</td>\n      <td>True</td>\n    </tr>\n    <tr>\n      <th>...</th>\n      <td>...</td>\n      <td>...</td>\n      <td>...</td>\n      <td>...</td>\n      <td>...</td>\n      <td>...</td>\n      <td>...</td>\n      <td>...</td>\n      <td>...</td>\n      <td>...</td>\n    </tr>\n    <tr>\n      <th>18996</th>\n      <td>Dec 28, 2015</td>\n      <td>Senior Creative UX/ UI Designer</td>\n      <td>Technolinguistics NGO</td>\n      <td>Full-time</td>\n      <td>NaN</td>\n      <td>Yerevan, Armenia</td>\n      <td>- At least 5 years of experience in Interface/...</td>\n      <td>2015</td>\n      <td>12</td>\n      <td>False</td>\n    </tr>\n    <tr>\n      <th>18997</th>\n      <td>Dec 30, 2015</td>\n      <td>Category Development Manager</td>\n      <td>\"Coca-Cola Hellenic Bottling Company Armenia\" ...</td>\n      <td>Full-time</td>\n      <td>NaN</td>\n      <td>Yerevan, Armenia</td>\n      <td>- University degree, ideally business related;...</td>\n      <td>2015</td>\n      <td>12</td>\n      <td>False</td>\n    </tr>\n    <tr>\n      <th>18998</th>\n      <td>Dec 30, 2015</td>\n      <td>Operational Marketing Manager</td>\n      <td>\"Coca-Cola Hellenic Bottling Company Armenia\" ...</td>\n      <td>Full-time</td>\n      <td>NaN</td>\n      <td>Yerevan, Armenia</td>\n      <td>- Degree in Business, Marketing or a related f...</td>\n      <td>2015</td>\n      <td>12</td>\n      <td>False</td>\n    </tr>\n    <tr>\n      <th>18999</th>\n      <td>Dec 30, 2015</td>\n      <td>Head of Online Sales Department</td>\n      <td>San Lazzaro   LLC</td>\n      <td>NaN</td>\n      <td>NaN</td>\n      <td>Yerevan, Armenia</td>\n      <td>- At least 1 year of experience in online sale...</td>\n      <td>2015</td>\n      <td>12</td>\n      <td>False</td>\n    </tr>\n    <tr>\n      <th>19000</th>\n      <td>Dec 30, 2015</td>\n      <td>Lawyer in Legal Department</td>\n      <td>\"Kamurj\" UCO CJSC</td>\n      <td>Full-time</td>\n      <td>NaN</td>\n      <td>Yerevan, Armenia</td>\n      <td>- Higher legal education; Master's degree is a...</td>\n      <td>2015</td>\n      <td>12</td>\n      <td>False</td>\n    </tr>\n  </tbody>\n</table>\n<p>19001 rows × 10 columns</p>\n</div>"
     },
     "metadata": {},
     "execution_count": 178
    }
   ],
   "source": [
    "# list of columns that are to be dropped\n",
    "columns_to_drop = [\n",
    "    \"jobpost\", \n",
    "    \"AnnouncementCode\", \n",
    "    \"StartDate\", \n",
    "    \"Duration\",  \n",
    "    \"JobDescription\", \n",
    "    \"JobRequirment\",\n",
    "    \"Salary\",\n",
    "    \"ApplicationP\", \n",
    "    \"Notes\",\n",
    "    \"AboutC\",\n",
    "    \"Attach\",\n",
    "    \"OpeningDate\",\n",
    "    \"Deadline\",\n",
    "    \"Eligibility\"\n",
    "    ]\n",
    "\n",
    "# dropping columns\n",
    "filtered_data = data.drop(columns=columns_to_drop)\n",
    "# print filtered data\n",
    "filtered_data\n"
   ]
  },
  {
   "cell_type": "code",
   "execution_count": 179,
   "metadata": {},
   "outputs": [
    {
     "output_type": "execute_result",
     "data": {
      "text/plain": [
       "array([2004, 2005, 2006, 2007, 2008, 2009, 2010, 2011, 2012, 2013, 2014,\n",
       "       2015])"
      ]
     },
     "metadata": {},
     "execution_count": 179
    }
   ],
   "source": [
    "# get all years on which the the jobs we posted \n",
    "years = pd.unique(filtered_data[\"Year\"])\n",
    "# print all years\n",
    "years"
   ]
  },
  {
   "cell_type": "code",
   "execution_count": 180,
   "metadata": {},
   "outputs": [],
   "source": [
    "\"\"\"\n",
    "    a function that returns a column from the data grouped by a particular column\n",
    "\"\"\"\n",
    "def getColumnByGroup (data, group_by, column_name):\n",
    "    return data.groupby(group_by)[column_name]"
   ]
  },
  {
   "cell_type": "code",
   "execution_count": 181,
   "metadata": {},
   "outputs": [],
   "source": [
    "\"\"\" \n",
    "    a function that takes in data in the form of a dataframe and groups them by \n",
    "    the year they were posted on and then counts number of IT jobs and non IT jobs \n",
    "\"\"\"\n",
    "\n",
    "def getITJobCounts(data) :\n",
    "    # group by year and get the IT column\n",
    "    grouped_by_year = getColumnByGroup(data, \"Year\", \"IT\")\n",
    "    # list to store all dicitionaries with counted data\n",
    "    job_counts = []\n",
    "    # iterate over all grouped data\n",
    "    for group in grouped_by_year:\n",
    "        # count number of IT jobs and non IT jobs\n",
    "        # basically the IT column has a true if the job was a IT job and \n",
    "        # false if it is not\n",
    "        # eg {year, ITJobs, NonITJobs, totalJobs}\n",
    "        trueFalseCounts = group[1].value_counts()\n",
    "        # convert all the data into a dictionary\n",
    "        subCounter = {\n",
    "            \"year\": group[0],\n",
    "            \"ITJobs\": trueFalseCounts[1],\n",
    "            \"NonITJobs\": trueFalseCounts[0],\n",
    "            \"totalJobs\": trueFalseCounts[1] + trueFalseCounts[0]\n",
    "        }\n",
    "        # add the dictionary to the list\n",
    "        job_counts.append(subCounter)\n",
    "    # return the list of dictionaries\n",
    "    return job_counts"
   ]
  },
  {
   "cell_type": "code",
   "execution_count": 182,
   "metadata": {},
   "outputs": [],
   "source": [
    "\"\"\"\n",
    "    a function to calculate the percentage by getting the number of jobs and the \n",
    "    total number of jobs\n",
    "    basic formula used here is (jobs / total_number_of_jobs) * 100\n",
    "\"\"\"\n",
    "def calculatePercentage (num_of_jobs, total_num_jobs):\n",
    "    # if total number of jobs is 0, meaning that it is an invalid number\n",
    "    if total_num_jobs == 0:\n",
    "        print(\"Cannot calculate percent where the total number of jobs is 0\")\n",
    "        return\n",
    "    # divide number of jobs by total number of jobs\n",
    "    division = num_of_jobs / total_num_jobs\n",
    "    # multiply the divided value by 100 to get percentage and return it\n",
    "    return division * 100"
   ]
  },
  {
   "cell_type": "code",
   "execution_count": 183,
   "metadata": {},
   "outputs": [],
   "source": [
    "\"\"\"\n",
    "    a function that calculates the percentage differnce at two certain points \n",
    "    basic formula used here is ((final_percentage - initial_percentage) / initial_percentage) * 100\n",
    "\"\"\"\n",
    "def percentageIncreaseDecrease (initial, final):\n",
    "    percentage_difference = (final - initial) / initial\n",
    "    percent = percentage_difference * 100\n",
    "    # Print results based on the output\n",
    "    if percent > 0:\n",
    "        print(\"increase in percentage =\", percent, \"%\")\n",
    "    elif percent == 0:\n",
    "        print (\"There was no increase or decrease\")\n",
    "    else:\n",
    "        print(\"decrease in percentage =\", abs(percent), \"%\")"
   ]
  },
  {
   "cell_type": "code",
   "execution_count": 184,
   "metadata": {},
   "outputs": [],
   "source": [
    "# get job counts from the getITJobCounts function\n",
    "job_data_by_year = getITJobCounts(filtered_data)\n",
    "\n",
    "# create a list that stores the year with the percentage of IT jobs posted\n",
    "percentage_list = []\n",
    "\n",
    "# iterate over job counts\n",
    "for jobs in job_data_by_year:\n",
    "    # add a new dictionary to percentage list that contains the year and \n",
    "    # the percentage of IT jobs per year\n",
    "    percentage_list.append({\n",
    "        \"year\": jobs[\"year\"],\n",
    "        \"ITJobPercentage\" : calculatePercentage(jobs[\"ITJobs\"], jobs['totalJobs'])\n",
    "    })"
   ]
  },
  {
   "cell_type": "code",
   "execution_count": 185,
   "metadata": {},
   "outputs": [
    {
     "output_type": "execute_result",
     "data": {
      "text/plain": [
       "[{'year': 2004, 'ITJobPercentage': 16.57142857142857},\n",
       " {'year': 2005, 'ITJobPercentage': 18.27768014059754},\n",
       " {'year': 2006, 'ITJobPercentage': 20.161290322580644},\n",
       " {'year': 2007, 'ITJobPercentage': 20.611183355006503},\n",
       " {'year': 2008, 'ITJobPercentage': 18.711484593837536},\n",
       " {'year': 2009, 'ITJobPercentage': 13.014273719563393},\n",
       " {'year': 2010, 'ITJobPercentage': 14.824619457313037},\n",
       " {'year': 2011, 'ITJobPercentage': 19.269298762522098},\n",
       " {'year': 2012, 'ITJobPercentage': 22.010237319683572},\n",
       " {'year': 2013, 'ITJobPercentage': 18.81533101045296},\n",
       " {'year': 2014, 'ITJobPercentage': 23.34846192637418},\n",
       " {'year': 2015, 'ITJobPercentage': 25.38576406172225}]"
      ]
     },
     "metadata": {},
     "execution_count": 185
    }
   ],
   "source": [
    "# print the list of years with percentages\n",
    "percentage_list"
   ]
  },
  {
   "cell_type": "code",
   "execution_count": 186,
   "metadata": {},
   "outputs": [
    {
     "output_type": "stream",
     "name": "stdout",
     "text": [
      "increase in percentage = 53.18995554487566 %\n"
     ]
    }
   ],
   "source": [
    "# calculate the percentage difference in the first and the last year in this case \n",
    "# the first year is 2004 and the last year is 2015\n",
    "diff_percent = percentageIncreaseDecrease(\n",
    "    percentage_list[0][\"ITJobPercentage\"], \n",
    "    percentage_list[-1][\"ITJobPercentage\"]\n",
    ")"
   ]
  },
  {
   "source": [
    "That was the IT Job percentage. That was a significant increase over 11 years. What about non IT jobs?. did all other industries combined together increase as well? did all other combined industries increase more than IT industry. lets find out"
   ],
   "cell_type": "markdown",
   "metadata": {}
  },
  {
   "cell_type": "code",
   "execution_count": 187,
   "metadata": {},
   "outputs": [
    {
     "output_type": "execute_result",
     "data": {
      "text/plain": [
       "[{'year': 2004, 'percentage': 83.42857142857143},\n",
       " {'year': 2005, 'percentage': 81.72231985940246},\n",
       " {'year': 2006, 'percentage': 79.83870967741935},\n",
       " {'year': 2007, 'percentage': 79.3888166449935},\n",
       " {'year': 2008, 'percentage': 81.28851540616246},\n",
       " {'year': 2009, 'percentage': 86.98572628043661},\n",
       " {'year': 2010, 'percentage': 85.17538054268697},\n",
       " {'year': 2011, 'percentage': 80.7307012374779},\n",
       " {'year': 2012, 'percentage': 77.98976268031642},\n",
       " {'year': 2013, 'percentage': 81.18466898954703},\n",
       " {'year': 2014, 'percentage': 76.65153807362583},\n",
       " {'year': 2015, 'percentage': 74.61423593827774}]"
      ]
     },
     "metadata": {},
     "execution_count": 187
    }
   ],
   "source": [
    "# a list to store dictionaries each containing a year and a percentage of non IT jobs\n",
    "non_IT_percentage_list = []\n",
    "# iterate over all years with IT and non IT job counts \n",
    "for data in job_data_by_year:\n",
    "    # add a new dictionary to percentage list that contains the year and \n",
    "    # the percentage of IT jobs per year\n",
    "    non_IT_percentage_list.append({\n",
    "        \"year\": data[\"year\"],\n",
    "        \"percentage\": calculatePercentage(\n",
    "            data[\"NonITJobs\"],\n",
    "            data['totalJobs']\n",
    "            )\n",
    "    })\n",
    "\n",
    "# print the list\n",
    "non_IT_percentage_list"
   ]
  },
  {
   "cell_type": "code",
   "execution_count": 188,
   "metadata": {},
   "outputs": [
    {
     "output_type": "stream",
     "name": "stdout",
     "text": [
      "decrease in percentage = 10.56512815617394 %\n"
     ]
    }
   ],
   "source": [
    "# calculate the percentage differnce\n",
    "non_IT_percen_diff = percentageIncreaseDecrease(\n",
    "    non_IT_percentage_list[0][\"percentage\"],\n",
    "    non_IT_percentage_list[-1][\"percentage\"]\n",
    ")"
   ]
  },
  {
   "source": [
    "It is fair enough to say that the IT industry would increase much more by the coming years from the growth percentages shown above. \n",
    "\n",
    "This was all about the percentage. What about job title? which job title is the most occured?\n"
   ],
   "cell_type": "markdown",
   "metadata": {}
  },
  {
   "cell_type": "code",
   "execution_count": 189,
   "metadata": {},
   "outputs": [],
   "source": [
    "# get job titles and then separate them based on if they are from the IT sector or not\n",
    "job_titles = filtered_data.groupby(\"IT\")[\"Title\"].unique()\n",
    "# store the non IT job titles in a variable\n",
    "non_IT_job_titles = job_titles[0]\n",
    "# store the IT job titles in a variable\n",
    "it_job_titles = job_titles[1]\n"
   ]
  },
  {
   "cell_type": "code",
   "execution_count": 190,
   "metadata": {},
   "outputs": [
    {
     "output_type": "stream",
     "name": "stdout",
     "text": [
      "most occured word in the titles column is Developer\n"
     ]
    },
    {
     "output_type": "execute_result",
     "data": {
      "text/plain": [
       "[('Developer', 529),\n",
       " ('Software', 331),\n",
       " ('Senior', 255),\n",
       " ('Engineer', 230),\n",
       " ('C', 174),\n",
       " ('Specialist', 147),\n",
       " ('Administrator', 91),\n",
       " ('Web', 85),\n",
       " ('Java', 81),\n",
       " ('IT', 79),\n",
       " ('Programmer', 70),\n",
       " ('NET', 69),\n",
       " ('Database', 68),\n",
       " ('Department', 57),\n",
       " ('Manager', 56),\n",
       " ('Designer', 55),\n",
       " ('Unit', 50),\n",
       " ('PHP', 49),\n",
       " ('Network', 46),\n",
       " ('ASP', 46)]"
      ]
     },
     "metadata": {},
     "execution_count": 190
    }
   ],
   "source": [
    "# split all words to find the most occured and most common words\n",
    "title_splits_IT_jobs = []\n",
    "\n",
    "# iterate over all the titles and tokenize them \n",
    "for title in it_job_titles:\n",
    "    words_list = tokenizer.tokenize(title)\n",
    "    for word in words_list:\n",
    "        title_splits_IT_jobs.append(word)\n",
    "# use FreqDist to find out the most occured words \n",
    "fdist = FreqDist([ word for word in title_splits_IT_jobs if word not in stop_words ])\n",
    "# print the most occured title\n",
    "print (\"most occured word in the titles column is\", fdist.max()) \n",
    "# print the 20 most common titles \n",
    "fdist.most_common(20)"
   ]
  },
  {
   "cell_type": "code",
   "execution_count": 191,
   "metadata": {
    "tags": []
   },
   "outputs": [
    {
     "output_type": "stream",
     "name": "stdout",
     "text": [
      "most occured word in the titles column is Specialist\n"
     ]
    },
    {
     "output_type": "execute_result",
     "data": {
      "text/plain": [
       "[('Specialist', 1064),\n",
       " ('Manager', 968),\n",
       " ('Assistant', 537),\n",
       " ('Head', 461),\n",
       " ('Department', 436),\n",
       " ('Engineer', 398),\n",
       " ('Development', 387),\n",
       " ('Officer', 386),\n",
       " ('Senior', 375),\n",
       " ('Coordinator', 341),\n",
       " ('Expert', 317),\n",
       " ('Sales', 316),\n",
       " ('Project', 304),\n",
       " ('Marketing', 266),\n",
       " ('Director', 247),\n",
       " ('Program', 245),\n",
       " ('Division', 237),\n",
       " ('Consultant', 221),\n",
       " ('Financial', 220),\n",
       " ('Service', 205)]"
      ]
     },
     "metadata": {},
     "execution_count": 191
    }
   ],
   "source": [
    "# split all words to find the most occured and most common words\n",
    "title_splits_non_IT_jobs = []\n",
    "\n",
    "# iterate over all the titles and tokenize them \n",
    "for title in non_IT_job_titles:\n",
    "    words_list = tokenizer.tokenize(str(title))\n",
    "    for word in words_list:\n",
    "        title_splits_non_IT_jobs.append(word)\n",
    "\n",
    "# use FreqDist to find out the most occured words \n",
    "fdist_non_it = FreqDist([ word for word in title_splits_non_IT_jobs if word not in stop_words ])\n",
    "# print the most occured title\n",
    "print (\"most occured word in the titles column is\", fdist_non_it.max()) \n",
    "# print the 20 most common titles \n",
    "fdist_non_it.most_common(20)"
   ]
  },
  {
   "source": [
    "As we can see that in case of IT job titles the most occured words are Developer and Software where as the most common occured words in non IT job titles are Specialist and manager.\n",
    "\n",
    "Let us now see how much percentage of all jobs posted are specified to be part time or full time. This data is obviously not vert accurate as there are many empyt values in this column. this is a rough figured percentage"
   ],
   "cell_type": "markdown",
   "metadata": {}
  },
  {
   "cell_type": "code",
   "execution_count": 192,
   "metadata": {
    "tags": []
   },
   "outputs": [
    {
     "output_type": "stream",
     "name": "stdout",
     "text": [
      "300 6636 19001\n"
     ]
    }
   ],
   "source": [
    "# get the Term column\n",
    "term_data = filtered_data[\"Term\"]\n",
    "# variables to store the total number of rows, part time and full time counts\n",
    "totalRows = 0\n",
    "partTimeCounter = 0\n",
    "fullTimeCounter = 0\n",
    "\n",
    "# count the number of jobs that are part time and full time\n",
    "for row in term_data:\n",
    "    totalRows += 1\n",
    "    if row == \"Full time\" or row == \"Full Time\" or row == \"Full-time\" or row == \"Full-Time\":\n",
    "        fullTimeCounter += 1\n",
    "    if row == \"Part time\" or row == \"Part Time\" or row == \"Part-time\" or row == \"Part-Time\":\n",
    "        partTimeCounter += 1\n",
    "\n",
    "    if row == \"Part-time or Full-time\" :\n",
    "        fullTimeCounter += 1\n",
    "        partTimeCounter += 1\n",
    "    \n",
    "\n",
    "# print the stats\n",
    "print(partTimeCounter, fullTimeCounter, totalRows)"
   ]
  },
  {
   "cell_type": "code",
   "execution_count": 193,
   "metadata": {},
   "outputs": [
    {
     "output_type": "stream",
     "name": "stdout",
     "text": [
      "Percentage of part time jobs from the dataset 1.578864270301563 %\n"
     ]
    }
   ],
   "source": [
    "# calculate part time job percentage\n",
    "partTimePercentage = calculatePercentage(partTimeCounter, totalRows)\n",
    "print(\"Percentage of part time jobs from the dataset\", partTimePercentage, \"%\")"
   ]
  },
  {
   "cell_type": "code",
   "execution_count": 194,
   "metadata": {},
   "outputs": [
    {
     "output_type": "stream",
     "name": "stdout",
     "text": [
      "Percentage of full time jobs from the dataset 34.924477659070575 %\n"
     ]
    }
   ],
   "source": [
    "# calculate full time job percentage\n",
    "fullTimePercentage = calculatePercentage(fullTimeCounter, totalRows)\n",
    "print(\"Percentage of full time jobs from the dataset\", fullTimePercentage, \"%\")"
   ]
  },
  {
   "cell_type": "code",
   "execution_count": 195,
   "metadata": {},
   "outputs": [
    {
     "output_type": "stream",
     "name": "stdout",
     "text": [
      "Percentage of other jobs from the dataset 63.496658070627866 %\n"
     ]
    }
   ],
   "source": [
    "# other specified or not specified job percentage\n",
    "otherJobPercentage = calculatePercentage(totalRows - partTimeCounter - fullTimeCounter, totalRows)\n",
    "print(\"Percentage of other jobs from the dataset\", otherJobPercentage, \"%\")"
   ]
  },
  {
   "source": [
    "## conclusion\n",
    "\n",
    "I came to a conclusion that the job posts in the IT sector have increased by approximately 53% from 2004 to 2015 in Armenian since the data was Armenian based. If we closely inspect the location column we would clearly find that almost all the job posts have the location of Armenia. \n",
    "\n",
    "However the full time and part time percentages calculated were not very acurate because of reason that many of the values were empty. it worked but then there were different types of terms that I did not take into consideration such as permanent."
   ],
   "cell_type": "markdown",
   "metadata": {}
  }
 ]
}